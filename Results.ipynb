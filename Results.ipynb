{
 "cells": [
  {
   "cell_type": "markdown",
   "metadata": {},
   "source": [
    "# Project Results\n",
    "\n",
    "This notebook displays results obtained through exploration of the 2016-2017 fantasy football data. A reference to the \"true scores\" should be understood as a reference to the actual points a player attained, while predicted scores are those produced by the algorithm.\n",
    "\n",
    "## Predicting Overall Score\n",
    "\n",
    "One measure of the effectiveness of the algorithm is the difference between the predicted total score and the true total score for each player. Though ideally the scores predicted _each week_ should be close to the true scores each week, a closeness between the predicted and true total scores hints at the prediction algorithm giving reasonable results.\n",
    "\n",
    "\n",
    "\n",
    "The model was trained to find parameters so that the predicted total score is close to the true total scores. The graph below plots predicted scores against true scores for a randomly-chosen subset of the players. The predictions are made using the algorithm with learned parameters."
   ]
  },
  {
   "cell_type": "code",
   "execution_count": null,
   "metadata": {},
   "outputs": [],
   "source": [
    "%matplotlib inline\n",
    "import matplotlib.pyplot as plt\n",
    "plt.style.use('seaborn')\n",
    "\n",
    "\n",
    "nm_pts = 16\n",
    "rarr = np.random.choice(583,nm_pts)\n",
    "matrix = np.empty((nm_pts,3))\n",
    "for j in range(nm_pts): \n",
    "    matrix[j,0], matrix[j,1], matrix[j,2] = j+1, round(predictions_v3[rarr[j]],0), endgame_ts[rarr[j]]\n",
    "    #predictions_v3 are the predicted scores, while endgame_ts are the true scores.\n",
    "plt.plot(matrix[:,0], matrix[:,1], 'ro', label='Predicted Scores')\n",
    "plt.plot(matrix[:,0], matrix[:,2], 'bo', label='True Scores')\n",
    "plt.xticks([])\n",
    "plt.ylabel('Score')\n",
    "plt.title('Predicted Scores and Real Scores - Random Sample of size {}'.format(nm_pts))\n",
    "leg = plt.legend(frameon=True)\n",
    "leg.get_frame().set_linewidth(2)\n",
    "plt.savefig('Comparison.png', dpi = 500)\n",
    "plt.show()"
   ]
  },
  {
   "cell_type": "markdown",
   "metadata": {},
   "source": [
    "![alt text](https://raw.githubusercontent.com/leofdgit/FF/master/images/Comparison.png \"Graph of Total Scores\")"
   ]
  },
  {
   "cell_type": "markdown",
   "metadata": {},
   "source": [
    "Some comments on the above graph are in order. One quickly notices that there are score-zero points on the graph. This is due to players that appear in the database but are never chosen to play in matches. Since the algorithm has no knowledge of when players will not play (due either to them being transfered to a team not entered in the league, injury or simply because other players are preferred to that player), predicted scores for weeks when the player did not play have been discarded. While the algorithm does predict scores for a player despite their potential absence from the week's teamsheet, the total predicted score for any given player does not include predictions from weeks where the player was absent.\n",
    "\n",
    "Numerically, the following statistical results show the closeness of predicted results to true results for the training data:\n",
    "\n",
    "**Mean absolute difference between totals:** 1.72.\n",
    "\n",
    "**Standard deviation of absolute difference between totals:** 1.98."
   ]
  },
  {
   "cell_type": "code",
   "execution_count": null,
   "metadata": {},
   "outputs": [],
   "source": []
  }
 ],
 "metadata": {
  "kernelspec": {
   "display_name": "Python 3",
   "language": "python",
   "name": "python3"
  },
  "language_info": {
   "codemirror_mode": {
    "name": "ipython",
    "version": 3
   },
   "file_extension": ".py",
   "mimetype": "text/x-python",
   "name": "python",
   "nbconvert_exporter": "python",
   "pygments_lexer": "ipython3",
   "version": "3.5.2"
  }
 },
 "nbformat": 4,
 "nbformat_minor": 2
}
