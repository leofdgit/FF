{
 "cells": [
  {
   "cell_type": "markdown",
   "metadata": {},
   "source": [
    "# The Model - Code Samples\n",
    "\n",
    "This notebook gives brief descriptions of some of the model's key components. Where appropriate code snippets have been added.\n",
    "\n",
    "## Player and Team Form\n",
    "\n",
    "Each football player in the fantasy game has their form taken into account. The results of each player are stored in NumPy arrays, the _prior_ arrays; the number of past scores kept in each player's array is controlled by a hyperparameter. To predict the number of points a player will score the mean of the past scores is computed, and is added to a value dependent upon team form to yield the final prediction.\n",
    "\n",
    "Similarly, the model keeps track of the form of each team. There is no obvious \"simple\" metric to measure team form, and so a novel one has been designed. The algorithm to compute form is based on the idea that players will score fewer points against hard-to-beat times, and more points against easy-to-beat teams. For example, it is fair to assume that a team playing against the current league leader will score few goals but concede many goals, while teams in the relegation zone will be at the mercy of their opponents in matches.\n",
    "\n"
   ]
  },
  {
   "cell_type": "code",
   "execution_count": null,
   "metadata": {},
   "outputs": [],
   "source": []
  }
 ],
 "metadata": {
  "kernelspec": {
   "display_name": "Python 3",
   "language": "python",
   "name": "python3"
  },
  "language_info": {
   "codemirror_mode": {
    "name": "ipython",
    "version": 3
   },
   "file_extension": ".py",
   "mimetype": "text/x-python",
   "name": "python",
   "nbconvert_exporter": "python",
   "pygments_lexer": "ipython3",
   "version": "3.5.2"
  }
 },
 "nbformat": 4,
 "nbformat_minor": 2
}
